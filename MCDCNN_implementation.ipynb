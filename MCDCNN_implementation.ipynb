{
  "nbformat": 4,
  "nbformat_minor": 0,
  "metadata": {
    "accelerator": "GPU",
    "colab": {
      "name": "MCDCNN_implementation.ipynb",
      "provenance": [],
      "collapsed_sections": []
    },
    "kernelspec": {
      "display_name": "Python 3",
      "language": "python",
      "name": "python3"
    },
    "language_info": {
      "codemirror_mode": {
        "name": "ipython",
        "version": 3
      },
      "file_extension": ".py",
      "mimetype": "text/x-python",
      "name": "python",
      "nbconvert_exporter": "python",
      "pygments_lexer": "ipython3",
      "version": "3.7.4"
    }
  },
  "cells": [
    {
      "cell_type": "markdown",
      "metadata": {
        "colab_type": "text",
        "id": "TlUGAfTML1Bl"
      },
      "source": [
        "# Implementation of Research Paper:\n",
        "## Title: Time Series Classification Using Multi-Channels Deep Convolutional Neural Networks\n",
        "## Authors: Yi Zheng1, Qi Liu, Enhong Chen, Yong Ge, and J. Leon Zhao\n",
        "## Datasource: http://archive.ics.uci.edu/ml/datasets/pamap2+physical+activity+monitoring"
      ]
    },
    {
      "cell_type": "code",
      "metadata": {
        "colab_type": "code",
        "id": "4my57sT5L1Bo",
        "colab": {
          "base_uri": "https://localhost:8080/",
          "height": 63
        },
        "outputId": "ec8b3801-95dd-4800-8a0d-b517b8792338"
      },
      "source": [
        "from collections import Counter\n",
        "from torch import nn\n",
        "from torch.utils.data import DataLoader as DL , Dataset\n",
        "import torch\n",
        "import torch.nn.functional as F\n",
        "import numpy as np\n",
        "import pandas as pd\n",
        "import matplotlib.pyplot as plt\n",
        "import tensorflow as tf\n",
        "import os\n",
        "import warnings\n",
        "warnings.filterwarnings('ignore')"
      ],
      "execution_count": 1,
      "outputs": [
        {
          "output_type": "display_data",
          "data": {
            "text/html": [
              "<p style=\"color: red;\">\n",
              "The default version of TensorFlow in Colab will soon switch to TensorFlow 2.x.<br>\n",
              "We recommend you <a href=\"https://www.tensorflow.org/guide/migrate\" target=\"_blank\">upgrade</a> now \n",
              "or ensure your notebook will continue to use TensorFlow 1.x via the <code>%tensorflow_version 1.x</code> magic:\n",
              "<a href=\"https://colab.research.google.com/notebooks/tensorflow_version.ipynb\" target=\"_blank\">more info</a>.</p>\n"
            ],
            "text/plain": [
              "<IPython.core.display.HTML object>"
            ]
          },
          "metadata": {
            "tags": []
          }
        }
      ]
    },
    {
      "cell_type": "markdown",
      "metadata": {
        "colab_type": "text",
        "id": "ZpF-_hePL1B9"
      },
      "source": [
        "### Data Preprocessing"
      ]
    },
    {
      "cell_type": "code",
      "metadata": {
        "colab_type": "code",
        "id": "Cij9mJFdL1CB",
        "outputId": "afd11eca-f1b3-4562-b667-a37819136d99",
        "colab": {
          "base_uri": "https://localhost:8080/",
          "height": 125
        }
      },
      "source": [
        "from google.colab import drive\n",
        "from torch.utils.tensorboard import SummaryWriter\n",
        "\n",
        "drive.mount('/content/gdrive')\n",
        "path = \"/content/gdrive/My Drive/Colab Notebooks/pamap/\"\n",
        "summaries_path = \"/content/gdrive/My Drive/Colab Notebooks/summaries/\"\n",
        "writer = SummaryWriter(summaries_path)"
      ],
      "execution_count": 2,
      "outputs": [
        {
          "output_type": "stream",
          "text": [
            "Go to this URL in a browser: https://accounts.google.com/o/oauth2/auth?client_id=947318989803-6bn6qk8qdgf4n4g3pfee6491hc0brc4i.apps.googleusercontent.com&redirect_uri=urn%3aietf%3awg%3aoauth%3a2.0%3aoob&response_type=code&scope=email%20https%3a%2f%2fwww.googleapis.com%2fauth%2fdocs.test%20https%3a%2f%2fwww.googleapis.com%2fauth%2fdrive%20https%3a%2f%2fwww.googleapis.com%2fauth%2fdrive.photos.readonly%20https%3a%2f%2fwww.googleapis.com%2fauth%2fpeopleapi.readonly\n",
            "\n",
            "Enter your authorization code:\n",
            "··········\n",
            "Mounted at /content/gdrive\n"
          ],
          "name": "stdout"
        }
      ]
    },
    {
      "cell_type": "markdown",
      "metadata": {
        "colab_type": "text",
        "id": "4NKlIrVpL1CP"
      },
      "source": [
        "#### Each Subject's data is stored in a list called dataset\n",
        "- Subject 8 has a different dominant hand\n",
        "- Subject 9 performed different activties\n",
        "- The two subjects were excluded from  the experiments by the authors\n",
        "\n"
      ]
    },
    {
      "cell_type": "code",
      "metadata": {
        "colab_type": "code",
        "id": "GbnOVBGlL1CR",
        "outputId": "354e8bc6-d529-4d65-94ff-5f65cedb7488",
        "colab": {
          "base_uri": "https://localhost:8080/",
          "height": 34
        }
      },
      "source": [
        "dataset = []\n",
        "for file in os.listdir(path):\n",
        "    dataset.append(pd.read_csv(path+file, delimiter = \" \", low_memory = False, na_values = \"na\", header = None))\n",
        "print(\"The dataset list contains data on \",len(dataset), \"users\")"
      ],
      "execution_count": 3,
      "outputs": [
        {
          "output_type": "stream",
          "text": [
            "The dataset list contains data on  7 users\n"
          ],
          "name": "stdout"
        }
      ]
    },
    {
      "cell_type": "markdown",
      "metadata": {
        "colab_type": "text",
        "id": "-VNWYTbIL1Cc"
      },
      "source": [
        "#### Select rows with desired activites\n",
        "\n",
        "- Using column 2 with activity index, rows containing the activies used by the authors are selected for each user.\n",
        "- The activities are : standing, walking, ascending stairs and  descending stairs\n",
        "- Each users data is then stored in a list `data`\n"
      ]
    },
    {
      "cell_type": "code",
      "metadata": {
        "colab_type": "code",
        "id": "rXwm4MQiL1Cf",
        "outputId": "37c304ff-ffe8-4b55-ab5b-3d57de97371b",
        "colab": {
          "base_uri": "https://localhost:8080/",
          "height": 140
        }
      },
      "source": [
        "data = []\n",
        "num_users = len(dataset)\n",
        "activities = [3,4,12,13]\n",
        "for d in range(len(dataset)):\n",
        "    #using column 2 with activity index\n",
        "    #rows containing the activies used by the authors are selected\n",
        "    data.append(dataset[d].loc[dataset[d][1].isin(activities)])\n",
        "for i in range(len(data)):\n",
        "    print(\"User \",i+1, \" has \", len(data[i]), \" timestamps\")"
      ],
      "execution_count": 4,
      "outputs": [
        {
          "output_type": "stream",
          "text": [
            "User  1  has  75233  timestamps\n",
            "User  2  has  87617  timestamps\n",
            "User  3  has  81173  timestamps\n",
            "User  4  has  74640  timestamps\n",
            "User  5  has  88735  timestamps\n",
            "User  6  has  74759  timestamps\n",
            "User  7  has  90664  timestamps\n"
          ],
          "name": "stdout"
        }
      ]
    },
    {
      "cell_type": "markdown",
      "metadata": {
        "colab_type": "text",
        "id": "NXqjdXX0_BdZ"
      },
      "source": [
        "-The following columns are deleted for the 3 IMU sensor data:\n",
        "  - Timestamp is not needed\n",
        "  - Heart rate because it has a different sampling frequency from the IMU\n",
        "  - 3D acceleration data that was not properly calibrated\n",
        "  - Orientation data was determined as invalid\n",
        "\n",
        "-The target is the activity ID and for each user, it is stored in list `user_features`.\n",
        "-The features for each user is stored in list `user_target`\n",
        "-Rows with missing values ,`NaN`, are also dropped\n",
        "\n"
      ]
    },
    {
      "cell_type": "code",
      "metadata": {
        "colab_type": "code",
        "id": "1Sf1giK8L1Cn",
        "outputId": "4c609a77-d192-4428-ab11-7509fb0b354d",
        "colab": {
          "base_uri": "https://localhost:8080/",
          "height": 140
        }
      },
      "source": [
        "pd.set_option('display.max_columns', 55)\n",
        "col_to_del = [0,1,2,7,8,9,16,17,18,19,24,25,26,33,34,35,36,41,42,43,50,51,52,53]\n",
        "\n",
        "user_features = []\n",
        "user_target   = []\n",
        "for user_data in data:\n",
        "  user_data = user_data.dropna()\n",
        "  user_target.append(user_data.iloc[:,1])\n",
        "  user_features.append(user_data.drop(columns=col_to_del))\n",
        "\n",
        "for i in range(len(data)):\n",
        "    print(\"User \",i+1, \" has \", len(user_features[i].iloc[0,:]), \"features\")"
      ],
      "execution_count": 5,
      "outputs": [
        {
          "output_type": "stream",
          "text": [
            "User  1  has  30 features\n",
            "User  2  has  30 features\n",
            "User  3  has  30 features\n",
            "User  4  has  30 features\n",
            "User  5  has  30 features\n",
            "User  6  has  30 features\n",
            "User  7  has  30 features\n"
          ],
          "name": "stdout"
        }
      ]
    },
    {
      "cell_type": "markdown",
      "metadata": {
        "colab_type": "text",
        "id": "Myqglb7dL1Cz"
      },
      "source": [
        "#### Standardizing the dataset for each user\n",
        "To standardize each users data:\n",
        "- The mean of the combination of all the users data was calculated\n",
        "- The standard deviation of the combination of all the users data was calculated\n",
        "- Using these global means, each user data was standardized\n",
        "\n"
      ]
    },
    {
      "cell_type": "markdown",
      "metadata": {
        "colab_type": "text",
        "id": "yK-7RqJ8L1C1"
      },
      "source": [
        "#### Standardizing the data"
      ]
    },
    {
      "cell_type": "code",
      "metadata": {
        "colab_type": "code",
        "id": "zDQ16vwmL1C2",
        "colab": {}
      },
      "source": [
        "num_features = user_features[0].shape[1]\n",
        "prod_mean_by_len = 0\n",
        "data_len_of_all_users = 0\n",
        "for user_data in user_features:\n",
        "    #get the product of the mean of the user data and its data length\n",
        "    prod_mean_by_len      += user_data.mean() * len(user_data)\n",
        "    #store the length of the sum of all data points\n",
        "    data_len_of_all_users += len(user_data)\n",
        "#calculate the global mean\n",
        "feature_means = prod_mean_by_len/data_len_of_all_users\n",
        "\n",
        "squared_deviation_sum = 0\n",
        "for user_data in user_features:\n",
        "  #calculate the deviation of each feature from the mean\n",
        "  deviation = user_data - feature_means\n",
        "  #sum the square of the deviations\n",
        "  squared_deviation_sum += (deviation**2).sum()\n",
        "#calculate the global standard deviation\n",
        "feature_standard_deviation = np.sqrt(squared_deviation_sum/data_len_of_all_users)\n",
        "\n",
        "#standardize each users data\n",
        "standardized_data = []\n",
        "for user_data in user_features:\n",
        "  standardized_data.append((user_data - feature_means)/feature_standard_deviation)"
      ],
      "execution_count": 0,
      "outputs": []
    },
    {
      "cell_type": "markdown",
      "metadata": {
        "colab_type": "text",
        "id": "xOKkuM_HL1DV"
      },
      "source": [
        "#### Create Dataset using sliding window  technique\n",
        "- Below is a more memory and time efficient method of implementing the sliding window technique over concatenating individual windows\n",
        "- The size of the expected dataset is calculated\n",
        "- Each window is therefore inserted into the arrays to store the features and targets\n",
        "- The windowed features and targets are returned. "
      ]
    },
    {
      "cell_type": "code",
      "metadata": {
        "colab_type": "code",
        "id": "62McOjz6L1DX",
        "scrolled": true,
        "colab": {}
      },
      "source": [
        "def generate_data(data_list,target_list,step):\n",
        "  window = 256\n",
        "  n_features = data_list[0].shape[1]\n",
        "  data = []\n",
        "  print(\"Start Processing for step \", step)\n",
        "  for i in range(len(data_list)):\n",
        "    features = data_list[i].values\n",
        "    targets  = target_list[i].values\n",
        "    \n",
        "    sliding_pointer    = 0 #pointer for sliding through the data\n",
        "    num_window_sampled = 0 #number of window samples collected\n",
        "    \n",
        "    last_window_stop = len(features) - window \n",
        "    num_window_slides = int(last_window_stop/step)\n",
        "\n",
        "    windowed_features = np.zeros((num_window_slides, num_features,window))\n",
        "    windowed_targets  = np.zeros((num_window_slides),dtype = \"float32\")\n",
        "    \n",
        "    for j in range(num_window_slides):\n",
        "      windowed_features[num_window_sampled] = \\\n",
        "                            features[sliding_pointer:sliding_pointer+window].T\n",
        "      \n",
        "      #select the most frequent label in the window\n",
        "      windowed_targets[num_window_sampled] = \\\n",
        "        Counter(targets[sliding_pointer:sliding_pointer+window]).most_common(1)[0][0]\n",
        "\n",
        "      sliding_pointer += step\n",
        "      num_window_sampled += 1\n",
        "        \n",
        "    data.append((windowed_features,windowed_targets))\n",
        "  print(\"Processing completed for step \", step)\n",
        "  return data"
      ],
      "execution_count": 0,
      "outputs": []
    },
    {
      "cell_type": "markdown",
      "metadata": {
        "colab_type": "text",
        "id": "0dSRFk1LL1Em"
      },
      "source": [
        "\n",
        "\n",
        "\n",
        "\n",
        "\n",
        "\n",
        "\n",
        "\n",
        "\n",
        "\n",
        "\n",
        "\n",
        "\n",
        "#### Creating train and test dataset using LOOCV\n",
        "- Using the generate_data function, the sliding window operation generates data from each user\n",
        "- To implement the LOOCV, one user's data is selected as test set while the others are concatenated to form the training set\n",
        "- The targets are label encoded"
      ]
    },
    {
      "cell_type": "code",
      "metadata": {
        "colab_type": "code",
        "id": "lYxFVBE5-Xn_",
        "outputId": "212facc5-0abd-4b97-b6e2-62114b875dff",
        "colab": {
          "base_uri": "https://localhost:8080/",
          "height": 122
        }
      },
      "source": [
        "X_train = np.empty((0,num_features,256))\n",
        "y_train = np.empty(0)\n",
        "\n",
        "step = 128\n",
        "test_index = 6\n",
        "\n",
        "data = generate_data(standardized_data,user_target,step)\n",
        "\n",
        "X_test = data[test_index][0]\n",
        "y_test = data[test_index][1]\n",
        "y_test = pd.Series(y_test).map({3:0,4:1,12:2,13:3}).values\n",
        "for i in range(num_users):\n",
        "    if i != test_index:\n",
        "      X_train = np.concatenate((X_train, data[i][0]), axis = 0)\n",
        "      y_train = np.concatenate((y_train, data[i][1]))\n",
        "\n",
        "y_train = pd.Series(y_train).map({3:0,4:1,12:2,13:3}).values\n",
        "print(\"shape of Xtrain is \", X_train.shape)\n",
        "print(\"shape of Ytrain is \", y_train.shape)\n",
        "print(\"shape of Xtest is \", X_test.shape)\n",
        "print(\"shape of Ytest is \", y_test.shape)"
      ],
      "execution_count": 8,
      "outputs": [
        {
          "output_type": "stream",
          "text": [
            "Start Processing for step  128\n",
            "Processing completed for step  128\n",
            "shape of Xtrain is  (324, 30, 256)\n",
            "shape of Ytrain is  (324,)\n",
            "shape of Xtest is  (61, 30, 256)\n",
            "shape of Ytest is  (61,)\n"
          ],
          "name": "stdout"
        }
      ]
    },
    {
      "cell_type": "markdown",
      "metadata": {
        "colab_type": "text",
        "id": "_P1qItjGL1Ev"
      },
      "source": [
        "#### Creating MC-DCNN(2)\n",
        "- The Dataset and DataLoaders are Created"
      ]
    },
    {
      "cell_type": "code",
      "metadata": {
        "colab_type": "code",
        "id": "a0sB07PX-FdO",
        "colab": {}
      },
      "source": [
        "class PAMAP(Dataset):\n",
        "    \"\"\"PAMAP dataset.\"\"\"\n",
        "    def __init__(self,X,y):\n",
        "        \"\"\"\n",
        "        Args:\n",
        "            X (numpy array): Array with input data\n",
        "            y (numpy array): Array with labels\n",
        "        \"\"\"\n",
        "        self.X = X\n",
        "        self.y = y\n",
        "\n",
        "\n",
        "    def __len__(self):\n",
        "        return len(self.X)\n",
        "\n",
        "    def __getitem__(self, idx):\n",
        "        if torch.is_tensor(idx):\n",
        "            idx = idx.tolist()\n",
        "        return (torch.tensor(self.X[idx,:,:], dtype = torch.float32),\n",
        "                torch.tensor(self.y[idx], dtype = torch.float32))\n",
        "\n",
        "data_train_loader  = DL(dataset = PAMAP(X_train,y_train), batch_size = 1, shuffle = True)\n",
        "data_test_loader   = DL(dataset = PAMAP(X_test,y_test), batch_size = 1, shuffle = False)"
      ],
      "execution_count": 0,
      "outputs": []
    },
    {
      "cell_type": "markdown",
      "metadata": {
        "colab_type": "text",
        "id": "7ZZQt0_rSHoG"
      },
      "source": [
        "- The Class `MCDCNN` creates the neural network model\n",
        "- Atrribute `conv_block` is a list that stores a sequence of convolution layers\n",
        "- The amount of convolution layers is equal to the amount of channels. For this implementation, it amounts to 30\n",
        "- Each conv layer in the each sequence is intialized in the for loop with `Xavier initialization` and the same pertains to the Linear Layers\n",
        "- The input to the model is of shape `(1,30,256)`\n",
        "  - To start the forward pass, the first dimension is squeezed out using `x = x[0]` to produce dimension `(30,256)`\n",
        "  - Next, the for loop selects each channels and passes it through one of the conv layers in the `conv_block` list\n",
        "  - The outputs are flattened and passed through a Feed Forward Network \n"
      ]
    },
    {
      "cell_type": "code",
      "metadata": {
        "colab_type": "code",
        "id": "3f40xGnVzF_w",
        "outputId": "8ae91e40-8243-4cbd-ba3c-61a96de744be",
        "colab": {
          "base_uri": "https://localhost:8080/",
          "height": 140
        }
      },
      "source": [
        "class MCDCNN(nn.Module):\n",
        "  def __init__(self,channels):\n",
        "    super().__init__()\n",
        "    self.conv_block = []\n",
        "    self.sigmoid = nn.Sigmoid()\n",
        "    self.softmax = nn.Softmax()\n",
        "    self.drop = nn.Dropout(0.8)\n",
        "    self.channels = channels\n",
        "    #append sequence of conv layers to conv_block\n",
        "    for i in range(channels):\n",
        "      self.conv_block.append(nn.Sequential(\n",
        "              nn.Conv1d(1,8,5,1),\n",
        "              nn.AvgPool1d(2,2),\n",
        "              nn.Conv1d(8,4,5,1),\n",
        "              nn.AvgPool1d(2,2)))\n",
        "    \n",
        "    #perform xavier intialization for conv layers\n",
        "    for j in range(channels):  \n",
        "      for i in range(4):\n",
        "        i = str(i)\n",
        "        if i in [\"1\",\"3\"]:\n",
        "          continue\n",
        "        nn.init.xavier_uniform_(self.conv_block[j]._modules[i].weight)\n",
        "    \n",
        "    \n",
        "    self.fc1 = nn.Linear(61*channels*4, 732)#(input node,output node)\n",
        "    self.fc2 = nn.Linear(732, 4)\n",
        "    \n",
        "    nn.init.xavier_uniform_(self.fc1.weight)\n",
        "    nn.init.xavier_uniform_(self.fc2.weight)\n",
        "    \n",
        "  \n",
        "  def forward(self,x):\n",
        "    x = x[0] #squeeze out first dimension\n",
        "    #pass each channel to a conv layer in conv block\n",
        "    for i in range(self.channels):\n",
        "      x1 = x[i].view(-1,1,256)\n",
        "      out = self.conv_block[i](x1)\n",
        "      out = out.view(-1,4*61)\n",
        "      #flattened outputs\n",
        "      if i == 0:\n",
        "        flat_layer = out\n",
        "      else:\n",
        "        flat_layer = torch.cat((flat_layer,out),1)\n",
        "    #Linear Layers\n",
        "    out = self.drop(out)\n",
        "    out = self.sigmoid(self.fc1(flat_layer))\n",
        "    out = self.softmax(self.fc2(out))\n",
        "    return out\n",
        "\n",
        "num_features = 30\n",
        "model = MCDCNN(num_features)\n",
        "model"
      ],
      "execution_count": 10,
      "outputs": [
        {
          "output_type": "execute_result",
          "data": {
            "text/plain": [
              "MCDCNN(\n",
              "  (sigmoid): Sigmoid()\n",
              "  (softmax): Softmax(dim=None)\n",
              "  (drop): Dropout(p=0.8, inplace=False)\n",
              "  (fc1): Linear(in_features=7320, out_features=732, bias=True)\n",
              "  (fc2): Linear(in_features=732, out_features=4, bias=True)\n",
              ")"
            ]
          },
          "metadata": {
            "tags": []
          },
          "execution_count": 10
        }
      ]
    },
    {
      "cell_type": "code",
      "metadata": {
        "colab_type": "code",
        "id": "Dg_N8JDT6Kgy",
        "colab": {}
      },
      "source": [
        "def accuracy(y,pred):\n",
        "  pred = np.argmax(pred.detach().numpy(),axis = 1)\n",
        "  y    = y.detach().numpy()\n",
        "  return np.mean((pred == y).astype(float)) * 100  \n",
        "\n",
        "def model_train(model,data_train_loader,data_test_loader, epochs = 50, freq = 1):\n",
        "  n_batches_train = 0\n",
        "  n_batches_test  = 0\n",
        "\n",
        "  cost            = nn.CrossEntropyLoss()\n",
        "  #optimizer       = torch.optim.SGD(model.parameters(),lr=0.001,\\\n",
        "  #                                  momentum=0.9, weight_decay=0.0005, nesterov=True)\n",
        "  \n",
        "  optimizer       = torch.optim.Adam(model.parameters(),lr=0.0001)\n",
        "  train_loss      = []\n",
        "  test_loss       = []\n",
        "  train_acc_list  = []\n",
        "  test_acc_list   = []\n",
        "\n",
        "  for epoch in range(epochs):\n",
        "    average_train_batch_loss = 0\n",
        "    train_acc = 0\n",
        "\n",
        "    average_test_batch_loss = 0\n",
        "    test_acc = 0\n",
        "    \n",
        "    for batch_id,(X,y) in enumerate(data_train_loader):\n",
        "      if epoch == 0:\n",
        "        n_batches_train += 1\n",
        "\n",
        "      prediction = model(X.float())\n",
        "      loss = cost(prediction,y.long())\n",
        "      optimizer.zero_grad()\n",
        "      loss.backward()\n",
        "      if batch_id == 0:\n",
        "        writer.add_histogram('output layer gradients',model.fc2.weight,epoch)\n",
        "      optimizer.step()\n",
        "      \n",
        "      prediction = model(X.float())\n",
        "      loss = cost(prediction,y.long())\n",
        "      \n",
        "      average_train_batch_loss += loss.item()\n",
        "      prediction = F.softmax(prediction)\n",
        "      train_acc += accuracy(y,prediction)\n",
        "    \n",
        "    train_loss.append(average_train_batch_loss/n_batches_train)\n",
        "    train_acc_list.append(float(train_acc)/n_batches_train)\n",
        "    \n",
        "    if (epoch+1) % freq == 0: \n",
        "      print(f\"epoch: {epoch+1} average batch train loss:{train_loss[-1]}\\\n",
        "    average batch train accuracy:{train_acc_list[-1]}%\")\n",
        "      \n",
        "    writer.add_scalar('train loss',train_loss[-1],epoch)\n",
        "    writer.add_scalar('train accuracy',train_acc_list[-1],epoch)\n",
        "    \n",
        "\n",
        "    with torch.no_grad():\n",
        "      for X,y in data_test_loader:\n",
        "        if epoch == 0:\n",
        "          n_batches_test += 1\n",
        "\n",
        "        prediction = model(X.float())\n",
        "        t_loss = cost(prediction,y.long())\n",
        "        prediction = F.softmax(prediction)\n",
        "        \n",
        "        average_test_batch_loss += t_loss.item()\n",
        "        test_acc  += accuracy(y,prediction)\n",
        "      \n",
        "      \n",
        "      test_loss.append(average_test_batch_loss/n_batches_test)\n",
        "      test_acc_list.append(float(test_acc)/n_batches_test)\n",
        "\n",
        "      if (epoch+1) % freq == 0: \n",
        "        print(f\"epoch: {epoch+1} test loss:{test_loss[-1]}\\\n",
        "                        test accuracy:{test_acc_list[-1]}% \\n\")\n",
        "      \n",
        "      writer.add_scalar('test loss',test_loss[-1],epoch)\n",
        "      writer.add_scalar('test accuracy',test_acc_list[-1],epoch)\n",
        "      \n",
        "  \n",
        "  return model,train_loss,test_loss,train_acc_list,test_acc_list"
      ],
      "execution_count": 0,
      "outputs": []
    },
    {
      "cell_type": "code",
      "metadata": {
        "colab_type": "code",
        "id": "gFTNp5xTV5m3",
        "colab": {}
      },
      "source": [
        "def plot_result(model):\n",
        "  _,train_loss,test_loss,train_acc_list,test_acc_list = model\n",
        "  plt.figure(1)\n",
        "  plt.plot(np.arange(len(train_loss)) + 1 , train_loss)\n",
        "  plt.plot(np.arange(len(test_loss)) + 1 , test_loss)\n",
        "  plt.xlabel(\"Epochs\")\n",
        "  plt.ylabel(\"Cross Entropy Loss\")\n",
        "  plt.title(\"Cross Entropy Loss vs Epochs\")\n",
        "  plt.legend(['Train loss', 'Test loss'])\n",
        "\n",
        "  plt.figure(2)\n",
        "  plt.plot(np.arange(len(train_acc_list)) + 1 ,train_acc_list)\n",
        "  plt.plot(np.arange(len(test_acc_list)) + 1 , test_acc_list)\n",
        "  plt.xlabel(\"Epochs\")\n",
        "  plt.ylabel(\"Accuracy\")\n",
        "  plt.title(\"Accuracy vs Epochs\")\n",
        "  plt.legend(['Train Accuracy', 'Test Accuracy'])\n",
        "  \n",
        "  return"
      ],
      "execution_count": 0,
      "outputs": []
    },
    {
      "cell_type": "markdown",
      "metadata": {
        "colab_type": "text",
        "id": "1IzR3tWAUKRm"
      },
      "source": [
        "### RESULTS\n",
        "2 Modifications were made to the network\n",
        "- Adam Optimizer was used because it is the state-of-the-art optimizer\n",
        "- A drop out layer was included in the flattened layer to reduce overfitting \n",
        "\n",
        "# Step - 128, test subject 1"
      ]
    },
    {
      "cell_type": "code",
      "metadata": {
        "colab_type": "code",
        "id": "LIFyxRBMrFo4",
        "outputId": "5b84f33c-eb3d-4bd9-b3fb-61d605587085",
        "colab": {
          "base_uri": "https://localhost:8080/",
          "height": 281
        }
      },
      "source": [
        "model_output = model_train(model,data_train_loader,data_test_loader, epochs = 5, freq = 1)"
      ],
      "execution_count": 13,
      "outputs": [
        {
          "output_type": "stream",
          "text": [
            "epoch: 1 average batch train loss:1.293730577752914    average batch train accuracy:45.06172839506173%\n",
            "epoch: 1 test loss:1.121302665257063                        test accuracy:62.295081967213115% \n",
            "\n",
            "epoch: 2 average batch train loss:1.0152852161798949    average batch train accuracy:72.8395061728395%\n",
            "epoch: 2 test loss:0.9557045610224615                        test accuracy:78.68852459016394% \n",
            "\n",
            "epoch: 3 average batch train loss:0.8622828116755427    average batch train accuracy:90.12345679012346%\n",
            "epoch: 3 test loss:0.9132494252236163                        test accuracy:88.52459016393442% \n",
            "\n",
            "epoch: 4 average batch train loss:0.7816244671006262    average batch train accuracy:96.91358024691358%\n",
            "epoch: 4 test loss:0.8477519672425067                        test accuracy:88.52459016393442% \n",
            "\n",
            "epoch: 5 average batch train loss:0.7539347445155368    average batch train accuracy:99.38271604938272%\n",
            "epoch: 5 test loss:0.7992227790785618                        test accuracy:96.72131147540983% \n",
            "\n"
          ],
          "name": "stdout"
        }
      ]
    },
    {
      "cell_type": "code",
      "metadata": {
        "colab_type": "code",
        "id": "hmv4id_YiKSZ",
        "outputId": "1be093e0-8067-45fa-d4e4-13969723bfae",
        "colab": {
          "base_uri": "https://localhost:8080/",
          "height": 573
        }
      },
      "source": [
        "plot_result(model_output)"
      ],
      "execution_count": 14,
      "outputs": [
        {
          "output_type": "display_data",
          "data": {
            "image/png": "[encoded data removed]",
            "text/plain": [
              "<Figure size 432x288 with 1 Axes>"
            ]
          },
          "metadata": {
            "tags": []
          }
        },
        {
          "output_type": "display_data",
          "data": {
            "image/png": "[encoded data removed]",
            "text/plain": [
              "<Figure size 432x288 with 1 Axes>"
            ]
          },
          "metadata": {
            "tags": []
          }
        }
      ]
    },
    {
      "cell_type": "code",
      "metadata": {
        "colab_type": "code",
        "id": "QOJB_bTimSXV",
        "colab": {}
      },
      "source": [
        ""
      ],
      "execution_count": 0,
      "outputs": []
    }
  ]
}